{
 "cells": [
  {
   "cell_type": "code",
   "execution_count": 1,
   "id": "f862a92b",
   "metadata": {},
   "outputs": [],
   "source": [
    "import pandas as pd\n",
    "\n",
    "equipments = pd.read_csv(\"simulated_industrial_data_realistic/equipments.csv\")\n",
    "events = pd.read_csv(\"simulated_industrial_data_realistic/machine_events.csv\")\n",
    "downtimes = pd.read_csv(\"simulated_industrial_data_realistic/downtime_logs.csv\")\n",
    "production = pd.read_csv(\"simulated_industrial_data_realistic/production_output.csv\")\n",
    "sensors = pd.read_csv(\"simulated_industrial_data_realistic/sensor_readings.csv\")"
   ]
  },
  {
   "cell_type": "code",
   "execution_count": 2,
   "id": "fabfc5c0",
   "metadata": {},
   "outputs": [
    {
     "name": "stdout",
     "output_type": "stream",
     "text": [
      "\n",
      "Equipments:\n",
      "<class 'pandas.core.frame.DataFrame'>\n",
      "RangeIndex: 10 entries, 0 to 9\n",
      "Data columns (total 7 columns):\n",
      " #   Column                    Non-Null Count  Dtype \n",
      "---  ------                    --------------  ----- \n",
      " 0   equipment_id              10 non-null     object\n",
      " 1   equipment_name            10 non-null     object\n",
      " 2   equipment_type            10 non-null     object\n",
      " 3   production_line_id        10 non-null     object\n",
      " 4   ideal_cycle_time_seconds  10 non-null     int64 \n",
      " 5   location                  10 non-null     object\n",
      " 6   installation_date         10 non-null     object\n",
      "dtypes: int64(1), object(6)\n",
      "memory usage: 692.0+ bytes\n",
      "None\n",
      "  equipment_id      equipment_name equipment_type production_line_id  \\\n",
      "0       MCH001  Decide Machine Q-1     Assemblage             LINE_D   \n",
      "1       MCH002     Lay Machine A-2       Peinture             LINE_A   \n",
      "2       MCH003    Only Machine N-3        Usinage             LINE_C   \n",
      "3       MCH004    Read Machine W-4       Controle             LINE_D   \n",
      "4       MCH005  Author Machine M-5       Controle             LINE_D   \n",
      "\n",
      "   ideal_cycle_time_seconds          location installation_date  \n",
      "0                        19  West Rachelhaven  16/12/2020 14:30  \n",
      "1                        15     West Leahside  16/08/2022 23:20  \n",
      "2                        16       Bethchester  27/03/2021 15:18  \n",
      "3                        12        Amandaport  28/08/2020 09:26  \n",
      "4                        23        East Ricky  10/11/2021 09:53  \n"
     ]
    }
   ],
   "source": [
    "print(\"\\nEquipments:\")\n",
    "print(equipments.info())\n",
    "print(equipments.head())"
   ]
  },
  {
   "cell_type": "code",
   "execution_count": 3,
   "id": "364f0291",
   "metadata": {},
   "outputs": [
    {
     "name": "stdout",
     "output_type": "stream",
     "text": [
      "\n",
      "Events:\n",
      "<class 'pandas.core.frame.DataFrame'>\n",
      "RangeIndex: 1538 entries, 0 to 1537\n",
      "Data columns (total 5 columns):\n",
      " #   Column        Non-Null Count  Dtype \n",
      "---  ------        --------------  ----- \n",
      " 0   event_id      1538 non-null   int64 \n",
      " 1   timestamp     1538 non-null   object\n",
      " 2   equipment_id  1538 non-null   object\n",
      " 3   event_type    1538 non-null   object\n",
      " 4   details       1538 non-null   object\n",
      "dtypes: int64(1), object(4)\n",
      "memory usage: 60.2+ KB\n",
      "None\n",
      "   event_id                   timestamp equipment_id event_type  \\\n",
      "0         3  2023-01-01 07:27:00.000000       MCH001      START   \n",
      "1        57  2023-01-07 13:49:09.977819       MCH001      ALARM   \n",
      "2        58  2023-01-07 13:49:09.977819       MCH001       STOP   \n",
      "3        59  2023-01-07 15:12:38.999355       MCH001      START   \n",
      "4       112  2023-01-27 01:48:44.335161       MCH001      ALARM   \n",
      "\n",
      "                               details  \n",
      "0                      Initial startup  \n",
      "1      Pre-stop alarm: Other Breakdown  \n",
      "2                Stop: Other Breakdown  \n",
      "3  Restart after Unplanned - Breakdown  \n",
      "4   Pre-stop alarm: Mechanical Failure  \n"
     ]
    }
   ],
   "source": [
    "print(\"\\nEvents:\")\n",
    "print(events.info())\n",
    "print(events.head())"
   ]
  },
  {
   "cell_type": "code",
   "execution_count": 4,
   "id": "7590e410",
   "metadata": {},
   "outputs": [
    {
     "name": "stdout",
     "output_type": "stream",
     "text": [
      "\n",
      "Downtimes:\n",
      "<class 'pandas.core.frame.DataFrame'>\n",
      "RangeIndex: 594 entries, 0 to 593\n",
      "Data columns (total 7 columns):\n",
      " #   Column             Non-Null Count  Dtype  \n",
      "---  ------             --------------  -----  \n",
      " 0   downtime_id        594 non-null    int64  \n",
      " 1   equipment_id       594 non-null    object \n",
      " 2   start_time         594 non-null    object \n",
      " 3   downtime_category  594 non-null    object \n",
      " 4   downtime_reason    594 non-null    object \n",
      " 5   end_time           594 non-null    object \n",
      " 6   duration_seconds   594 non-null    float64\n",
      "dtypes: float64(1), int64(1), object(5)\n",
      "memory usage: 32.6+ KB\n",
      "None\n",
      "   downtime_id equipment_id                  start_time  \\\n",
      "0           19       MCH001  2023-01-07 13:49:09.977819   \n",
      "1           40       MCH001  2023-01-27 01:48:44.335161   \n",
      "2           41       MCH001  2023-01-27 11:21:03.929124   \n",
      "3           52       MCH001  2023-02-04 09:37:11.406179   \n",
      "4           54       MCH001  2023-02-05 10:37:27.171772   \n",
      "\n",
      "       downtime_category     downtime_reason             end_time  \\\n",
      "0  Unplanned - Breakdown     Other Breakdown  2023-12-31 17:00:00   \n",
      "1  Unplanned - Breakdown  Mechanical Failure  2023-12-31 17:00:00   \n",
      "2  Unplanned - Breakdown     Other Breakdown  2023-12-31 17:00:00   \n",
      "3  Unplanned - Breakdown      Hydraulic Leak  2023-12-31 17:00:00   \n",
      "4    Unplanned - Process       Tooling Issue  2023-12-31 17:00:00   \n",
      "\n",
      "   duration_seconds  \n",
      "0      3.094265e+07  \n",
      "1      2.925788e+07  \n",
      "2      2.922354e+07  \n",
      "3      2.853857e+07  \n",
      "4      2.844855e+07  \n"
     ]
    }
   ],
   "source": [
    "print(\"\\nDowntimes:\")\n",
    "print(downtimes.info())\n",
    "print(downtimes.head())"
   ]
  },
  {
   "cell_type": "code",
   "execution_count": 5,
   "id": "d212a5cc",
   "metadata": {},
   "outputs": [
    {
     "name": "stdout",
     "output_type": "stream",
     "text": [
      "\n",
      "Production:\n",
      "<class 'pandas.core.frame.DataFrame'>\n",
      "RangeIndex: 86409 entries, 0 to 86408\n",
      "Data columns (total 6 columns):\n",
      " #   Column                    Non-Null Count  Dtype  \n",
      "---  ------                    --------------  -----  \n",
      " 0   timestamp                 86409 non-null  object \n",
      " 1   equipment_id              86409 non-null  object \n",
      " 2   product_id                70597 non-null  object \n",
      " 3   quantity_produced         86409 non-null  int64  \n",
      " 4   quantity_rejected         86409 non-null  int64  \n",
      " 5   running_duration_seconds  86409 non-null  float64\n",
      "dtypes: float64(1), int64(2), object(3)\n",
      "memory usage: 4.0+ MB\n",
      "None\n",
      "                    timestamp equipment_id product_id  quantity_produced  \\\n",
      "0  2023-01-01 07:59:59.000000       MCH001        NaN                 98   \n",
      "1  2023-01-01 08:59:59.000000       MCH001        NaN                184   \n",
      "2  2023-01-01 09:59:59.000000       MCH001        NaN                187   \n",
      "3  2023-01-01 10:59:59.000000       MCH001        NaN                183   \n",
      "4  2023-01-01 11:59:59.000000       MCH001        NaN                185   \n",
      "\n",
      "   quantity_rejected  running_duration_seconds  \n",
      "0                  1                    1980.0  \n",
      "1                  1                    3600.0  \n",
      "2                  2                    3600.0  \n",
      "3                  2                    3600.0  \n",
      "4                  2                    3600.0  \n"
     ]
    }
   ],
   "source": [
    "print(\"\\nProduction:\")\n",
    "print(production.info())\n",
    "print(production.head())"
   ]
  },
  {
   "cell_type": "code",
   "execution_count": 6,
   "id": "8bc4b590",
   "metadata": {},
   "outputs": [
    {
     "name": "stdout",
     "output_type": "stream",
     "text": [
      "\n",
      "Sensors:\n",
      "<class 'pandas.core.frame.DataFrame'>\n",
      "RangeIndex: 41980840 entries, 0 to 41980839\n",
      "Data columns (total 5 columns):\n",
      " #   Column        Dtype  \n",
      "---  ------        -----  \n",
      " 0   timestamp     object \n",
      " 1   equipment_id  object \n",
      " 2   sensor_type   object \n",
      " 3   value         float64\n",
      " 4   unit          object \n",
      "dtypes: float64(1), object(4)\n",
      "memory usage: 1.6+ GB\n",
      "None\n",
      "             timestamp equipment_id          sensor_type      value unit\n",
      "0  2023-01-01 07:00:00       MCH001    Temperature_Motor  62.357204   °C\n",
      "1  2023-01-01 07:00:00       MCH001    Vibration_Bearing   2.808500    g\n",
      "2  2023-01-01 07:00:00       MCH001   Pressure_Hydraulic  10.393795  bar\n",
      "3  2023-01-01 07:00:00       MCH001  Current_Consumption  14.271332    A\n",
      "4  2023-01-01 07:00:30       MCH001    Temperature_Motor  59.215357   °C\n"
     ]
    }
   ],
   "source": [
    "print(\"\\nSensors:\")\n",
    "print(sensors.info())\n",
    "print(sensors.head())"
   ]
  },
  {
   "cell_type": "code",
   "execution_count": 8,
   "id": "95eaab1e",
   "metadata": {},
   "outputs": [
    {
     "name": "stdout",
     "output_type": "stream",
     "text": [
      "       equipment_id      equipment_name equipment_type production_line_id  \\\n",
      "count            10                  10             10                 10   \n",
      "unique           10                  10              4                  4   \n",
      "top          MCH001  Decide Machine Q-1       Peinture             LINE_D   \n",
      "freq              1                   1              3                  3   \n",
      "mean            NaN                 NaN            NaN                NaN   \n",
      "std             NaN                 NaN            NaN                NaN   \n",
      "min             NaN                 NaN            NaN                NaN   \n",
      "25%             NaN                 NaN            NaN                NaN   \n",
      "50%             NaN                 NaN            NaN                NaN   \n",
      "75%             NaN                 NaN            NaN                NaN   \n",
      "max             NaN                 NaN            NaN                NaN   \n",
      "\n",
      "        ideal_cycle_time_seconds          location installation_date  \n",
      "count                  10.000000                10                10  \n",
      "unique                       NaN                10                10  \n",
      "top                          NaN  West Rachelhaven  16/12/2020 14:30  \n",
      "freq                         NaN                 1                 1  \n",
      "mean                   15.700000               NaN               NaN  \n",
      "std                     4.270051               NaN               NaN  \n",
      "min                     8.000000               NaN               NaN  \n",
      "25%                    12.750000               NaN               NaN  \n",
      "50%                    16.000000               NaN               NaN  \n",
      "75%                    18.500000               NaN               NaN  \n",
      "max                    23.000000               NaN               NaN  \n"
     ]
    }
   ],
   "source": [
    "print(equipments.describe(include='all'))\n"
   ]
  },
  {
   "cell_type": "code",
   "execution_count": null,
   "id": "f48ebeb4",
   "metadata": {},
   "outputs": [
    {
     "name": "stdout",
     "output_type": "stream",
     "text": [
      "event_type\n",
      "START    604\n",
      "STOP     594\n",
      "ALARM    340\n",
      "Name: count, dtype: int64\n"
     ]
    }
   ],
   "source": [
    "print(events['event_type'].value_counts())"
   ]
  },
  {
   "cell_type": "code",
   "execution_count": 10,
   "id": "65c5de74",
   "metadata": {},
   "outputs": [
    {
     "name": "stdout",
     "output_type": "stream",
     "text": [
      "downtime_category\n",
      "Unplanned - Breakdown    340\n",
      "Unplanned - Process      135\n",
      "Changeover                90\n",
      "Planned Maintenance       29\n",
      "Name: count, dtype: int64\n"
     ]
    }
   ],
   "source": [
    "print(downtimes['downtime_category'].value_counts())\n"
   ]
  },
  {
   "cell_type": "code",
   "execution_count": 11,
   "id": "07c4450c",
   "metadata": {},
   "outputs": [
    {
     "name": "stdout",
     "output_type": "stream",
     "text": [
      "       quantity_produced  quantity_rejected\n",
      "count       86409.000000       86409.000000\n",
      "mean          241.160516           2.267854\n",
      "std            79.747811           1.104378\n",
      "min             1.000000           0.000000\n",
      "25%           187.000000           2.000000\n",
      "50%           220.000000           2.000000\n",
      "75%           288.000000           3.000000\n",
      "max           458.000000           6.000000\n"
     ]
    }
   ],
   "source": [
    "print(production[['quantity_produced', 'quantity_rejected']].describe())\n"
   ]
  },
  {
   "cell_type": "code",
   "execution_count": 12,
   "id": "833b4189",
   "metadata": {},
   "outputs": [
    {
     "name": "stdout",
     "output_type": "stream",
     "text": [
      "sensor_type\n",
      "Temperature_Motor      10495210\n",
      "Vibration_Bearing      10495210\n",
      "Pressure_Hydraulic     10495210\n",
      "Current_Consumption    10495210\n",
      "Name: count, dtype: int64\n"
     ]
    }
   ],
   "source": [
    "print(sensors['sensor_type'].value_counts())\n"
   ]
  }
 ],
 "metadata": {
  "kernelspec": {
   "display_name": "base",
   "language": "python",
   "name": "python3"
  },
  "language_info": {
   "codemirror_mode": {
    "name": "ipython",
    "version": 3
   },
   "file_extension": ".py",
   "mimetype": "text/x-python",
   "name": "python",
   "nbconvert_exporter": "python",
   "pygments_lexer": "ipython3",
   "version": "3.12.3"
  }
 },
 "nbformat": 4,
 "nbformat_minor": 5
}
